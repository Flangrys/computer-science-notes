{
  "nbformat": 4,
  "nbformat_minor": 0,
  "metadata": {
    "colab": {
      "provenance": [],
      "collapsed_sections": [
        "sefm76LlSyJt"
      ],
      "authorship_tag": "ABX9TyOH/sLfLdu7jt9VZECUjC9m",
      "include_colab_link": true
    },
    "kernelspec": {
      "name": "python3",
      "display_name": "Python 3"
    },
    "language_info": {
      "name": "python"
    }
  },
  "cells": [
    {
      "cell_type": "markdown",
      "metadata": {
        "id": "view-in-github",
        "colab_type": "text"
      },
      "source": [
        "<a href=\"https://colab.research.google.com/github/Flangrys/computer-science-notes/blob/main/introduccion_a_la_matetmatica_sistemas_numericos.ipynb\" target=\"_parent\"><img src=\"https://colab.research.google.com/assets/colab-badge.svg\" alt=\"Open In Colab\"/></a>"
      ]
    },
    {
      "cell_type": "markdown",
      "source": [
        "#Introducción a la Matemática (3376)\n",
        "## Práctica N°1: Sistemas de numeración\n"
      ],
      "metadata": {
        "id": "jxU0CDP5NwEK"
      }
    },
    {
      "cell_type": "markdown",
      "source": [
        "### Ejercicio 11:\n",
        "> Si se cumple que $ab_{(5)} = 100_{(3)}$ obtener los valores de a y b\n",
        "\n",
        "> Tanto $ab_{(5)}$ como $100_{(3)}$ equivalen al mismo numero en base 10, entonces:\n",
        "\n",
        "> $\n",
        "b + 5 \\times a = 9 \\Bigg \\{\n",
        "\\begin{array}{ll}\n",
        "ab_{(5)} = a \\times 5^{1} + b \\times 5^{0} \\\\\n",
        "100_{(3)} = 1 \\times 3^{2} + 0 \\times 3^{1} + 0 \\times 3^{0} \\\\\n",
        "\\end{array}\n",
        "$\n",
        "\n",
        "> Además $a$ y $b$ sólo pueden tomar los valores $[0, 1, 2, 3, 4]$. La unica opción posible que cumple la ecuacion es para $a = 1$ y $b = 4$ ya que $4 + 5 \\times 1 = 9$"
      ],
      "metadata": {
        "id": "mBK9-PKOs-9k"
      }
    },
    {
      "cell_type": "markdown",
      "source": [
        "### Ejercicio 12:\n",
        "Suponer que se trabaja en base 8 y se utilizan 2 posiciones para representar un número.\n",
        "\n",
        "> a) Calcular el rango máximo de representación (No se aclara cual).\n",
        ">\n",
        "> b) Usando representación con complemento a la base, representar el número $-25_{(8)}$.\n",
        ">\n",
        "> **Complemento a la base:** $[-(\\frac{b ^ p}{2}); \\frac{b^p}{2} - 1]$\n",
        ">\n",
        "> **Complemento a la base- 1:** $[-(\\frac{b ^ p}{2} - 1); \\frac{b^p}{2} - 1]$\n",
        "\n",
        "#### 1. Calculando el rango de representacion.\n",
        "  > **Complemento a la base**\n",
        "  >\n",
        "  > $[-(\\frac{8^2}{2}); \\frac{8^2}{2} - 1] = [-32; 31]$\n",
        "  >\n",
        "  > *Busco su equivalencia en el sistema octal.*\n",
        "  >\n",
        "  > $\\Rightarrow [-40_{(8)}; 37_{(8)}]$\n",
        "  >\n",
        "  > **Complemento a la base - 1**\n",
        "  >\n",
        "  >$[-(\\frac{8^2}{2} - 1); \\frac{8^2}{2} - 1] = [-31; 31]$\n",
        "  >\n",
        "  > *Busco su equivalencia en el sistema octal.*\n",
        "  >\n",
        "  > $\\Rightarrow [-37_{(8)}; 37_{(8)}]$\n",
        "\n",
        "#### 2. Reprsenentar con el complemento a la base.\n",
        "\n",
        "> **Para numeros negativos utilizamos:** $\n",
        "B^P - V = 64 - 21 = 43_{(10)}\n",
        "$\n",
        ">\n",
        ">$\n",
        "\\begin{array}\n",
        "  25_{(8)} = 5 * 8 ^ 2 = 21_{(10)} \\Rightarrow \\Bigg \\{\n",
        "  \\begin{array}{rr}\n",
        "    Base = 8 \\\\\n",
        "    Pot = 2 \\\\\n",
        "    Val = 21 \\\\\n",
        "  \\end{array}\n",
        "\\end{array}\n",
        "$\n",
        ">\n",
        "> Busco su equivalencia en el sistema octal.\n",
        ">\n",
        "> $\\Rightarrow 53_{(8)}$\n"
      ],
      "metadata": {
        "id": "MDhLVyyXPRSX"
      }
    },
    {
      "cell_type": "markdown",
      "source": [
        "### Ejercicio 13: Código ASCII\n",
        "> a) ¿Cómo se veria la palabra \"HOLA\" en forma de número binario con el formato ASCII?"
      ],
      "metadata": {
        "id": "4M3bWB946eS-"
      }
    },
    {
      "cell_type": "markdown",
      "source": [
        "Buscamos para cada caracter de la secuencia su equivalencia en el sistema binario.\n",
        "\n",
        "$$\n",
        "\\begin{array}{ll}\n",
        "  H = 72_{(10)} = 1001000_{(2)}\\\\\n",
        "  O = 79_{(10)} = 1001111_{(2)}\\\\\n",
        "  L = 76_{(10)} = 1001100_{(2)}\\\\\n",
        "  A = 65_{(10)} = 1000001_{(2)}\\\\\n",
        "\\end{array}\\\\\n",
        "HOLA = \\text{1001000 1001111 1001100 1000001}\n",
        "$$"
      ],
      "metadata": {
        "id": "BS-db7Nt7I9J"
      }
    }
  ]
}