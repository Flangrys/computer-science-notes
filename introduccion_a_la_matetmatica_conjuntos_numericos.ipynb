{
  "nbformat": 4,
  "nbformat_minor": 0,
  "metadata": {
    "colab": {
      "provenance": [],
      "authorship_tag": "ABX9TyOrHkRagVetkweCtVXZE6+B",
      "include_colab_link": true
    },
    "kernelspec": {
      "name": "python3",
      "display_name": "Python 3"
    },
    "language_info": {
      "name": "python"
    }
  },
  "cells": [
    {
      "cell_type": "markdown",
      "metadata": {
        "id": "view-in-github",
        "colab_type": "text"
      },
      "source": [
        "<a href=\"https://colab.research.google.com/github/Flangrys/computer-science-notes/blob/main/introduccion_a_la_matetmatica_conjuntos_numericos.ipynb\" target=\"_parent\"><img src=\"https://colab.research.google.com/assets/colab-badge.svg\" alt=\"Open In Colab\"/></a>"
      ]
    },
    {
      "cell_type": "markdown",
      "source": [
        "#Introducción a la Matemática (3376)\n",
        "## Práctica N°3: Conjuntos Numéricos"
      ],
      "metadata": {
        "id": "IGEcHaDv8cxn"
      }
    },
    {
      "cell_type": "markdown",
      "source": [
        "### Ejercicio 1:\n",
        "> Decidir si las siguientes afirmaciones son verdaderas o falsas, justificando la respuesta.\n",
        ">\n",
        "> a) $\\text{Si } a \\in \\mathbb{N} \\text{ entonces } -a^2 \\in \\mathbb{Z}.$\n",
        ">\n",
        "> b) $\\text{Si } a \\text { es un numero par entonces } a\\frac{a}{2} \\in \\mathbb{N}.$\n",
        ">\n",
        "> c) $\\text{Si } a \\in \\mathbb{Z} \\text{ entonces } \\sqrt{10 - a} \\in \\mathbb{R}.$\n",
        ">\n",
        "> d) $\\text{Si } a \\in \\mathbb{N} \\text{ y } b \\in \\mathbb{Z} \\text{ entonces } \\frac{a+b}{b} \\in \\mathbb{Q}.$\n",
        ">\n",
        "> e) $\\text{Si } a \\in \\mathbb{R} \\text{ y } b \\text{ es un numero par entonces } a - \\frac{1}{2}b \\in \\mathbb{Q}$"
      ],
      "metadata": {
        "id": "SW-fZNFK8o5X"
      }
    },
    {
      "cell_type": "markdown",
      "source": [
        "a) $\n",
        "  a = 3 \\in \\mathbb{N}\n",
        "  \\\\ \\Rightarrow -a ^ 2\n",
        "  \\\\ \\Rightarrow -3 ^ 2 = -9\n",
        "  \\\\ \\Rightarrow -9 \\in \\mathbb{Z}\n",
        "$"
      ],
      "metadata": {
        "id": "DZi6Ml6L---4"
      }
    },
    {
      "cell_type": "markdown",
      "source": [
        "b) $\n",
        "a = -8 \\in \\{x | x \\in \\mathbb{Z} : x \\% 2 = 0 \\}\n",
        "\\\\ \\Rightarrow a \\frac{a}{2}\n",
        "\\\\ \\Rightarrow -8 \\frac{-8}{2} = -8 \\times -4\n",
        "\\\\ \\Rightarrow -32 \\in \\mathbb{N}\n",
        "$"
      ],
      "metadata": {
        "id": "Hffb0m_ufQL3"
      }
    },
    {
      "cell_type": "markdown",
      "source": [
        "c) $\n",
        "c = 11 \\in \\mathbb{Z}\n",
        "\\\\ \\Rightarrow \\sqrt{10 - a} \\in \\mathbb{R}\n",
        "\\\\ \\Rightarrow \\sqrt{10 - 11} = \\sqrt{-1} = i\n",
        "\\\\ \\Rightarrow i \\in \\mathbb{I} \\rightarrow i \\notin \\mathbb{R}\n",
        "$"
      ],
      "metadata": {
        "id": "EJ4t1-bNf0sK"
      }
    },
    {
      "cell_type": "markdown",
      "source": [
        "d) $\n",
        "  a = 1 \\in \\mathbb{N},  b = -1 \\in \\mathbb{Z}\n",
        "  \\\\ \\Rightarrow \\frac{a + b}{b}\n",
        "  \\\\ \\Rightarrow \\frac{1 - 1}{-1}\n",
        "  \\\\ \\Rightarrow \\frac{0}{-1} = 1\n",
        "  \\\\ \\Rightarrow 1 \\in \\mathbb{Q}\n",
        "$"
      ],
      "metadata": {
        "id": "Mclz7MnfhXQT"
      }
    },
    {
      "cell_type": "markdown",
      "source": [
        "e) $\n",
        "  a = x \\in \\mathbb{R}, b = x \\in \\{x | x \\in \\mathbb{Z} : x \\% 2 = 0 \\}\n",
        "$"
      ],
      "metadata": {
        "id": "XxN1jLSUprI7"
      }
    }
  ]
}